{
 "cells": [
  {
   "cell_type": "code",
   "execution_count": 1,
   "id": "87bd3cb4",
   "metadata": {},
   "outputs": [],
   "source": [
    "#Autograd package do all kinds of optimization\n",
    "# Calculating gradients in pytorch\n",
    "import torch"
   ]
  },
  {
   "cell_type": "code",
   "execution_count": 5,
   "id": "27068330",
   "metadata": {},
   "outputs": [
    {
     "name": "stdout",
     "output_type": "stream",
     "text": [
      "tensor([0.8052, 0.7990, 0.0699], requires_grad=True)\n"
     ]
    }
   ],
   "source": [
    "x = torch.rand(3, requires_grad=True)\n",
    "print(x)"
   ]
  },
  {
   "cell_type": "code",
   "execution_count": 8,
   "id": "a819f053",
   "metadata": {},
   "outputs": [
    {
     "name": "stdout",
     "output_type": "stream",
     "text": [
      "tensor([2.8052, 2.7990, 2.0699], grad_fn=<AddBackward0>)\n"
     ]
    }
   ],
   "source": [
    "# Pytorch creates computational graph\n",
    "y = x+2\n",
    "# We have added the backward add propagation to the function\n",
    "print(y)"
   ]
  },
  {
   "cell_type": "markdown",
   "id": "e20bcb04",
   "metadata": {},
   "source": [
    "![alt text](add.png)"
   ]
  },
  {
   "cell_type": "code",
   "execution_count": 9,
   "id": "5f27e52d",
   "metadata": {},
   "outputs": [
    {
     "name": "stdout",
     "output_type": "stream",
     "text": [
      "tensor([15.7380, 15.6686,  8.5688], grad_fn=<MulBackward0>)\n",
      "tensor(13.3251, grad_fn=<MeanBackward0>)\n"
     ]
    }
   ],
   "source": [
    "# We can do multiplication as well mean function\n",
    "z = y*y*2\n",
    "print(z)\n",
    "z = z.mean()\n",
    "print(z)"
   ]
  },
  {
   "cell_type": "code",
   "execution_count": 10,
   "id": "5932fa9f",
   "metadata": {},
   "outputs": [
    {
     "name": "stdout",
     "output_type": "stream",
     "text": [
      "tensor([3.7402, 3.7320, 2.7598])\n"
     ]
    }
   ],
   "source": [
    "# When  we calculate gradient of z w.r.t x\n",
    "z.backward() # dz/dx\n",
    "print(x.grad)\n",
    "\n"
   ]
  },
  {
   "cell_type": "code",
   "execution_count": null,
   "id": "372c9fbe",
   "metadata": {},
   "outputs": [],
   "source": []
  }
 ],
 "metadata": {
  "kernelspec": {
   "display_name": "Python 3",
   "language": "python",
   "name": "python3"
  },
  "language_info": {
   "codemirror_mode": {
    "name": "ipython",
    "version": 3
   },
   "file_extension": ".py",
   "mimetype": "text/x-python",
   "name": "python",
   "nbconvert_exporter": "python",
   "pygments_lexer": "ipython3",
   "version": "3.9.7"
  }
 },
 "nbformat": 4,
 "nbformat_minor": 5
}
