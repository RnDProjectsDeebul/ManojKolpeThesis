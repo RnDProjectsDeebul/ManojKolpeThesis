{
 "cells": [
  {
   "cell_type": "code",
   "execution_count": 16,
   "id": "4f9e9745",
   "metadata": {},
   "outputs": [],
   "source": [
    "from numpy import double, float64\n",
    "import torch\n",
    "import numpy as np"
   ]
  },
  {
   "cell_type": "code",
   "execution_count": 2,
   "id": "344624e0",
   "metadata": {},
   "outputs": [],
   "source": [
    "x = torch.empty(3)\n",
    "y = torch.empty(2,3)\n",
    "z = torch.rand(2,3)\n",
    "a = torch.empty(2,3)\n",
    "b = torch.ones(2,3)\n",
    "c = torch.ones(2,4, dtype=torch.int)\n",
    "d = torch.empty(2,3,dtype=torch.double)\n",
    "e = torch.empty(2,4,dtype=torch.float64)"
   ]
  },
  {
   "cell_type": "code",
   "execution_count": 3,
   "id": "00a95839",
   "metadata": {},
   "outputs": [],
   "source": [
    "#Another way of creating a tensor\n",
    "f = torch.tensor([1.2,3.3,1.9])\n"
   ]
  },
  {
   "cell_type": "code",
   "execution_count": 4,
   "id": "c97562ad",
   "metadata": {},
   "outputs": [
    {
     "name": "stdout",
     "output_type": "stream",
     "text": [
      "tensor([2.2275e+08, 4.5897e-41, 2.1947e+15]) tensor([[2.0750e+17, 4.5898e-41, 2.0750e+17],\n",
      "        [4.5898e-41, 0.0000e+00, 0.0000e+00]]) tensor([[3.9525e-01, 9.8288e-01, 8.4716e-01],\n",
      "        [2.9068e-01, 1.8829e-04, 3.6940e-01]]) tensor([[1.4013e-45, 0.0000e+00, 4.9689e-37],\n",
      "        [3.0861e-41, 1.4013e-45, 0.0000e+00]]) tensor([[1., 1., 1.],\n",
      "        [1., 1., 1.]]) tensor([[1, 1, 1, 1],\n",
      "        [1, 1, 1, 1]], dtype=torch.int32) tensor([[ 0.0000e+00,  0.0000e+00,  0.0000e+00],\n",
      "        [6.9505e-310, 6.9505e-310,  0.0000e+00]], dtype=torch.float64) tensor([[ 0.0000e+00,  0.0000e+00,  0.0000e+00,  0.0000e+00],\n",
      "        [ 0.0000e+00,  0.0000e+00,  0.0000e+00, 6.9505e-310]],\n",
      "       dtype=torch.float64) tensor([1.2000, 3.3000, 1.9000])\n"
     ]
    }
   ],
   "source": [
    "print(x,y,z,a,b,c,d,e,f)"
   ]
  },
  {
   "cell_type": "code",
   "execution_count": 5,
   "id": "6ec57337",
   "metadata": {},
   "outputs": [
    {
     "name": "stdout",
     "output_type": "stream",
     "text": [
      "<class 'torch.Tensor'>\n"
     ]
    }
   ],
   "source": [
    "print(type(f))"
   ]
  },
  {
   "cell_type": "code",
   "execution_count": 6,
   "id": "bef475d8",
   "metadata": {},
   "outputs": [
    {
     "name": "stdout",
     "output_type": "stream",
     "text": [
      "tensor([[2.0750e+17, 4.5898e-41, 2.0750e+17],\n",
      "        [4.5898e-41, 0.0000e+00, 0.0000e+00]])\n",
      "tensor([[3.9525e-01, 9.8288e-01, 8.4716e-01],\n",
      "        [2.9068e-01, 1.8829e-04, 3.6940e-01]])\n",
      "tensor([[2.0750e+17, 9.8288e-01, 2.0750e+17],\n",
      "        [2.9068e-01, 1.8829e-04, 3.6940e-01]])\n"
     ]
    }
   ],
   "source": [
    "sumed = y+z\n",
    "print(y)\n",
    "print(z)\n",
    "print(sumed)"
   ]
  },
  {
   "cell_type": "code",
   "execution_count": 7,
   "id": "961cf70a",
   "metadata": {},
   "outputs": [
    {
     "name": "stdout",
     "output_type": "stream",
     "text": [
      "tensor([[2.0750e+17, 9.8288e-01, 2.0750e+17],\n",
      "        [2.9068e-01, 1.8829e-04, 3.6940e-01]])\n"
     ]
    }
   ],
   "source": [
    "sumed = torch.add(y,z)\n",
    "print(sumed)"
   ]
  },
  {
   "cell_type": "code",
   "execution_count": 8,
   "id": "7cb6affa",
   "metadata": {},
   "outputs": [
    {
     "name": "stdout",
     "output_type": "stream",
     "text": [
      "tensor([[2.0750e+17, 9.1795e-41, 2.0969e+17],\n",
      "        [2.2275e+08, 4.5897e-41, 2.1947e+15]])\n"
     ]
    }
   ],
   "source": [
    "# all python function with preceding underscore (_) willl do inplace operation\n",
    "y.add_(x)\n",
    "print(y)"
   ]
  },
  {
   "cell_type": "code",
   "execution_count": 9,
   "id": "a0b7b04f",
   "metadata": {},
   "outputs": [
    {
     "name": "stdout",
     "output_type": "stream",
     "text": [
      "tensor([[-2.0750e+17, -4.5898e-41, -2.0750e+17],\n",
      "        [ 0.0000e+00,  0.0000e+00,  0.0000e+00]])\n"
     ]
    }
   ],
   "source": [
    "subtract = x-y\n",
    "print(subtract)\n"
   ]
  },
  {
   "cell_type": "code",
   "execution_count": 10,
   "id": "9edf987f",
   "metadata": {},
   "outputs": [
    {
     "name": "stdout",
     "output_type": "stream",
     "text": [
      "tensor([[-2.0750e+17, -4.5898e-41, -2.0750e+17],\n",
      "        [ 0.0000e+00,  0.0000e+00,  0.0000e+00]])\n"
     ]
    }
   ],
   "source": [
    "subtract = torch.sub(x,y)\n",
    "print(subtract)"
   ]
  },
  {
   "cell_type": "code",
   "execution_count": 11,
   "id": "ba9fd9ff",
   "metadata": {},
   "outputs": [
    {
     "name": "stdout",
     "output_type": "stream",
     "text": [
      "tensor([[4.6220e+25, 0.0000e+00, 4.6021e+32],\n",
      "        [4.9617e+16, 0.0000e+00, 4.8165e+30]])\n"
     ]
    }
   ],
   "source": [
    "mult = x*y\n",
    "print(mult)"
   ]
  },
  {
   "cell_type": "code",
   "execution_count": 13,
   "id": "f543c029",
   "metadata": {},
   "outputs": [
    {
     "name": "stdout",
     "output_type": "stream",
     "text": [
      "tensor([[4.6220e+25, 0.0000e+00, 4.6021e+32],\n",
      "        [4.9617e+16, 0.0000e+00, 4.8165e+30]])\n"
     ]
    }
   ],
   "source": [
    "mult = torch.mul(x,y)\n",
    "print(mult)"
   ]
  },
  {
   "cell_type": "code",
   "execution_count": 14,
   "id": "658e72f8",
   "metadata": {},
   "outputs": [
    {
     "data": {
      "text/plain": [
       "tensor([[4.6220e+25, 0.0000e+00, 4.6021e+32],\n",
       "        [4.9617e+16, 0.0000e+00, 4.8165e+30]])"
      ]
     },
     "execution_count": 14,
     "metadata": {},
     "output_type": "execute_result"
    }
   ],
   "source": [
    "y.mul_(x)"
   ]
  },
  {
   "cell_type": "code",
   "execution_count": 15,
   "id": "f9c876dd",
   "metadata": {},
   "outputs": [
    {
     "name": "stdout",
     "output_type": "stream",
     "text": [
      "tensor([[4.8193e-18,        inf, 4.7689e-18],\n",
      "        [4.4894e-09,        inf, 4.5565e-16]])\n"
     ]
    }
   ],
   "source": [
    "div = x/y\n",
    "print(div)"
   ]
  },
  {
   "cell_type": "code",
   "execution_count": 18,
   "id": "4b0e6761",
   "metadata": {},
   "outputs": [
    {
     "name": "stdout",
     "output_type": "stream",
     "text": [
      "tensor([1., 1., 1., 1., 1., 1.])\n",
      "<class 'numpy.ndarray'>\n"
     ]
    }
   ],
   "source": [
    "a = torch.ones(6)\n",
    "print(a)\n",
    "b = a.numpy()\n",
    "print(type(b))"
   ]
  },
  {
   "cell_type": "code",
   "execution_count": null,
   "id": "c29ace7d",
   "metadata": {},
   "outputs": [],
   "source": [
    "    "
   ]
  }
 ],
 "metadata": {
  "kernelspec": {
   "display_name": "Python 3",
   "language": "python",
   "name": "python3"
  },
  "language_info": {
   "codemirror_mode": {
    "name": "ipython",
    "version": 3
   },
   "file_extension": ".py",
   "mimetype": "text/x-python",
   "name": "python",
   "nbconvert_exporter": "python",
   "pygments_lexer": "ipython3",
   "version": "3.9.7"
  }
 },
 "nbformat": 4,
 "nbformat_minor": 5
}
