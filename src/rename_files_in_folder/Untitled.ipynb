{
 "cells": [
  {
   "cell_type": "code",
   "execution_count": 2,
   "id": "1061dada",
   "metadata": {},
   "outputs": [],
   "source": [
    "import os"
   ]
  },
  {
   "cell_type": "code",
   "execution_count": 4,
   "id": "92274751",
   "metadata": {},
   "outputs": [],
   "source": [
    "path = \"/home/latai/Documents/Master_thesis/Data/seq-03_formated_manoj/images/\"\n",
    "files = os.listdir(path)\n",
    "\n",
    "for index, file in enumerate(files):\n",
    "    os.rename(path+file, path + str(index)+ '.png')"
   ]
  },
  {
   "cell_type": "code",
   "execution_count": null,
   "id": "b192f2ce",
   "metadata": {},
   "outputs": [],
   "source": []
  }
 ],
 "metadata": {
  "kernelspec": {
   "display_name": "Python 3",
   "language": "python",
   "name": "python3"
  },
  "language_info": {
   "codemirror_mode": {
    "name": "ipython",
    "version": 3
   },
   "file_extension": ".py",
   "mimetype": "text/x-python",
   "name": "python",
   "nbconvert_exporter": "python",
   "pygments_lexer": "ipython3",
   "version": "3.7.13"
  }
 },
 "nbformat": 4,
 "nbformat_minor": 5
}
