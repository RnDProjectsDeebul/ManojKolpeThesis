{
 "cells": [
  {
   "cell_type": "code",
   "execution_count": 22,
   "id": "cb1aacab",
   "metadata": {},
   "outputs": [],
   "source": [
    "import numpy as np"
   ]
  },
  {
   "cell_type": "markdown",
   "id": "04624f1b",
   "metadata": {},
   "source": [
    "## Returns ndarray along with indices values "
   ]
  },
  {
   "cell_type": "code",
   "execution_count": 23,
   "id": "a30af66f",
   "metadata": {},
   "outputs": [
    {
     "name": "stdout",
     "output_type": "stream",
     "text": [
      "------------------------------\n",
      "[[[0 0 0]\n",
      "  [1 1 1]]\n",
      "\n",
      " [[0 1 2]\n",
      "  [0 1 2]]]\n",
      "------------------------------\n",
      "[[[0 0 0]\n",
      "  [1 1 1]\n",
      "  [2 2 2]\n",
      "  [3 3 3]]\n",
      "\n",
      " [[0 1 2]\n",
      "  [0 1 2]\n",
      "  [0 1 2]\n",
      "  [0 1 2]]]\n",
      "------------------------------\n"
     ]
    }
   ],
   "source": [
    "print(\"------------------------------\")\n",
    "grid1 = np.indices((2, 3))\n",
    "grid2 = np.indices((4, 3))\n",
    "print(grid1)\n",
    "print(\"------------------------------\")\n",
    "print(grid2)\n",
    "print(\"------------------------------\")"
   ]
  },
  {
   "cell_type": "code",
   "execution_count": 24,
   "id": "f0039a4f",
   "metadata": {},
   "outputs": [
    {
     "name": "stdout",
     "output_type": "stream",
     "text": [
      "[[[  0.   0.   0. ...   0.   0.   0.]\n",
      "  [  1.   1.   1. ...   1.   1.   1.]\n",
      "  [  2.   2.   2. ...   2.   2.   2.]\n",
      "  ...\n",
      "  [317. 317. 317. ... 317. 317. 317.]\n",
      "  [318. 318. 318. ... 318. 318. 318.]\n",
      "  [319. 319. 319. ... 319. 319. 319.]]\n",
      "\n",
      " [[  0.   1.   2. ... 253. 254. 255.]\n",
      "  [  0.   1.   2. ... 253. 254. 255.]\n",
      "  [  0.   1.   2. ... 253. 254. 255.]\n",
      "  ...\n",
      "  [  0.   1.   2. ... 253. 254. 255.]\n",
      "  [  0.   1.   2. ... 253. 254. 255.]\n",
      "  [  0.   1.   2. ... 253. 254. 255.]]]\n"
     ]
    }
   ],
   "source": [
    "pixel_coordinate = np.indices([320, 256]).astype(np.float32)\n",
    "print(pixel_coordinate)"
   ]
  },
  {
   "cell_type": "code",
   "execution_count": 25,
   "id": "7fb2c357",
   "metadata": {},
   "outputs": [
    {
     "data": {
      "text/plain": [
       "array([[[1., 1., 1.],\n",
       "        [1., 1., 1.]]])"
      ]
     },
     "execution_count": 25,
     "metadata": {},
     "output_type": "execute_result"
    }
   ],
   "source": [
    "np.ones([1, 2, 3])"
   ]
  },
  {
   "cell_type": "code",
   "execution_count": 26,
   "id": "fea4c569",
   "metadata": {},
   "outputs": [
    {
     "name": "stdout",
     "output_type": "stream",
     "text": [
      "(1, 320, 256)\n",
      "(2, 320, 256)\n"
     ]
    }
   ],
   "source": [
    "print(np.ones([1, 320, 256]).shape)\n",
    "print(pixel_coordinate.shape)"
   ]
  },
  {
   "cell_type": "markdown",
   "id": "38ada5fb",
   "metadata": {},
   "source": [
    "#### axis 0 are rows and when we concatenate along axis 0 then it is a horizontal stacking"
   ]
  },
  {
   "cell_type": "code",
   "execution_count": 27,
   "id": "19d4a831",
   "metadata": {},
   "outputs": [
    {
     "data": {
      "text/plain": [
       "array([[1, 2],\n",
       "       [3, 4],\n",
       "       [5, 6]])"
      ]
     },
     "execution_count": 27,
     "metadata": {},
     "output_type": "execute_result"
    }
   ],
   "source": [
    "a = np.array([[1, 2], [3, 4]])\n",
    "b = np.array([[5, 6]])\n",
    "np.concatenate((a, b), axis=0)"
   ]
  },
  {
   "cell_type": "code",
   "execution_count": 28,
   "id": "1e7e3ef0",
   "metadata": {},
   "outputs": [
    {
     "name": "stdout",
     "output_type": "stream",
     "text": [
      "(3, 320, 256)\n"
     ]
    }
   ],
   "source": [
    "pixel_coordinate = np.concatenate(\n",
    "    (pixel_coordinate, np.ones([1, 320, 256])), axis=0)\n",
    "print(pixel_coordinate.shape)"
   ]
  },
  {
   "cell_type": "code",
   "execution_count": 29,
   "id": "1ee8491c",
   "metadata": {},
   "outputs": [
    {
     "data": {
      "text/plain": [
       "array([1, 2, 3, 4, 5, 6])"
      ]
     },
     "execution_count": 29,
     "metadata": {},
     "output_type": "execute_result"
    }
   ],
   "source": [
    "a = np.array([[1,2,3], [4,5,6]])\n",
    "np.reshape(a, 6)"
   ]
  },
  {
   "cell_type": "code",
   "execution_count": 30,
   "id": "7176c914",
   "metadata": {},
   "outputs": [
    {
     "data": {
      "text/plain": [
       "array([[[  0.,   0.,   0., ...,   0.,   0.,   0.],\n",
       "        [  1.,   1.,   1., ...,   1.,   1.,   1.],\n",
       "        [  2.,   2.,   2., ...,   2.,   2.,   2.],\n",
       "        ...,\n",
       "        [317., 317., 317., ..., 317., 317., 317.],\n",
       "        [318., 318., 318., ..., 318., 318., 318.],\n",
       "        [319., 319., 319., ..., 319., 319., 319.]],\n",
       "\n",
       "       [[  0.,   1.,   2., ..., 253., 254., 255.],\n",
       "        [  0.,   1.,   2., ..., 253., 254., 255.],\n",
       "        [  0.,   1.,   2., ..., 253., 254., 255.],\n",
       "        ...,\n",
       "        [  0.,   1.,   2., ..., 253., 254., 255.],\n",
       "        [  0.,   1.,   2., ..., 253., 254., 255.],\n",
       "        [  0.,   1.,   2., ..., 253., 254., 255.]],\n",
       "\n",
       "       [[  1.,   1.,   1., ...,   1.,   1.,   1.],\n",
       "        [  1.,   1.,   1., ...,   1.,   1.,   1.],\n",
       "        [  1.,   1.,   1., ...,   1.,   1.,   1.],\n",
       "        ...,\n",
       "        [  1.,   1.,   1., ...,   1.,   1.,   1.],\n",
       "        [  1.,   1.,   1., ...,   1.,   1.,   1.],\n",
       "        [  1.,   1.,   1., ...,   1.,   1.,   1.]]])"
      ]
     },
     "execution_count": 30,
     "metadata": {},
     "output_type": "execute_result"
    }
   ],
   "source": [
    "pixel_coordinate"
   ]
  },
  {
   "cell_type": "code",
   "execution_count": 31,
   "id": "d5dc89b9",
   "metadata": {},
   "outputs": [],
   "source": [
    "pixel_coordinate = np.reshape(pixel_coordinate, [3, -1])"
   ]
  },
  {
   "cell_type": "code",
   "execution_count": 32,
   "id": "d7361263",
   "metadata": {},
   "outputs": [
    {
     "name": "stdout",
     "output_type": "stream",
     "text": [
      "[0 1 2 3 4 5 6 7 8 9]\n",
      "[[0 1 2 3 4 5 6 7 8 9]]\n"
     ]
    }
   ],
   "source": [
    "b = np.arange(10)\n",
    "c = b.reshape((1,-1))\n",
    "print(b)\n",
    "print(c)"
   ]
  },
  {
   "cell_type": "code",
   "execution_count": 33,
   "id": "2b2d40c7",
   "metadata": {},
   "outputs": [
    {
     "name": "stdout",
     "output_type": "stream",
     "text": [
      "[[  0.   0.   0. ... 319. 319. 319.]\n",
      " [  0.   1.   2. ... 253. 254. 255.]\n",
      " [  1.   1.   1. ...   1.   1.   1.]]\n",
      "(3, 81920)\n"
     ]
    }
   ],
   "source": [
    "print(pixel_coordinate)\n",
    "print(pixel_coordinate.shape)"
   ]
  },
  {
   "cell_type": "code",
   "execution_count": null,
   "id": "3c43a589",
   "metadata": {},
   "outputs": [],
   "source": []
  }
 ],
 "metadata": {
  "kernelspec": {
   "display_name": "Python 3",
   "language": "python",
   "name": "python3"
  },
  "language_info": {
   "codemirror_mode": {
    "name": "ipython",
    "version": 3
   },
   "file_extension": ".py",
   "mimetype": "text/x-python",
   "name": "python",
   "nbconvert_exporter": "python",
   "pygments_lexer": "ipython3",
   "version": "3.7.13"
  }
 },
 "nbformat": 4,
 "nbformat_minor": 5
}
