{
 "cells": [
  {
   "cell_type": "code",
   "execution_count": 1,
   "id": "cd6e89f0",
   "metadata": {},
   "outputs": [],
   "source": [
    "import torch\n",
    "import torch.nn as nn"
   ]
  },
  {
   "cell_type": "code",
   "execution_count": 9,
   "id": "365dd4b8",
   "metadata": {},
   "outputs": [],
   "source": [
    "class Model(nn.Module):\n",
    "    def __init__(self):\n",
    "        super().__init__()\n",
    "        self.layer1 = nn.Linear(32,16)\n",
    "        self.layer2 = nn.Linear(16,8)\n",
    "        self.layer3 = nn.Linear(8,1)\n",
    "    \n",
    "    def forward(self, features):\n",
    "        x = self.layer1(features)\n",
    "        x = self.layer2(x)\n",
    "        x = self.layer3(x)\n",
    "        return x"
   ]
  },
  {
   "cell_type": "code",
   "execution_count": 10,
   "id": "c5bf19c5",
   "metadata": {},
   "outputs": [
    {
     "name": "stdout",
     "output_type": "stream",
     "text": [
      "tensor([[0.2643, 0.9763, 0.6407, 0.9856, 0.1218, 0.5395, 0.0255, 0.5600, 0.9109,\n",
      "         0.9722, 0.3745, 0.7751, 0.0821, 0.4974, 0.7012, 0.9365, 0.3746, 0.0316,\n",
      "         0.0079, 0.5378, 0.6441, 0.6358, 0.4599, 0.3618, 0.0155, 0.8466, 0.7565,\n",
      "         0.0708, 0.6720, 0.6560, 0.9509, 0.4045],\n",
      "        [0.1486, 0.9002, 0.7665, 0.5186, 0.6512, 0.6841, 0.2698, 0.1902, 0.0402,\n",
      "         0.3001, 0.5973, 0.5280, 0.3791, 0.6134, 0.6606, 0.9587, 0.4318, 0.3112,\n",
      "         0.3498, 0.7472, 0.6174, 0.8943, 0.0318, 0.6900, 0.8017, 0.7721, 0.3962,\n",
      "         0.0181, 0.9398, 0.2214, 0.3884, 0.1153]])\n"
     ]
    }
   ],
   "source": [
    "model = Model()\n",
    "features = torch.rand((2,32))\n",
    "print(features)"
   ]
  },
  {
   "cell_type": "code",
   "execution_count": 11,
   "id": "0ddb87ee",
   "metadata": {},
   "outputs": [
    {
     "data": {
      "text/plain": [
       "tensor([[0.0602],\n",
       "        [0.0838]], grad_fn=<AddmmBackward0>)"
      ]
     },
     "execution_count": 11,
     "metadata": {},
     "output_type": "execute_result"
    }
   ],
   "source": [
    "# We pass the 2 inputs (at a time one input) of 128 features into the model and the model output two predicted value.\n",
    "model(features)"
   ]
  },
  {
   "cell_type": "markdown",
   "id": "3db71051",
   "metadata": {},
   "source": [
    "![alt text](nn.svg)"
   ]
  },
  {
   "cell_type": "code",
   "execution_count": 14,
   "id": "5cd9a07f",
   "metadata": {},
   "outputs": [],
   "source": [
    "class Model(nn.Module):\n",
    "    def __init__(self):\n",
    "        super().__init__()\n",
    "        \n",
    "        self.base = nn.Sequential(\n",
    "                    nn.Linear(32,16),\n",
    "                    nn.Linear(16,8),\n",
    "                    nn.Linear(8,1)\n",
    "                    )\n",
    "    \n",
    "    def forward(self, features):\n",
    "        x = self.base(features)\n",
    "        return x"
   ]
  },
  {
   "cell_type": "code",
   "execution_count": 15,
   "id": "addcc1a5",
   "metadata": {},
   "outputs": [
    {
     "data": {
      "text/plain": [
       "tensor([[0.0129],\n",
       "        [0.0544],\n",
       "        [0.0243]], grad_fn=<AddmmBackward0>)"
      ]
     },
     "execution_count": 15,
     "metadata": {},
     "output_type": "execute_result"
    }
   ],
   "source": [
    "model = Model()\n",
    "features = torch.rand((3,32))\n",
    "model(features)"
   ]
  },
  {
   "cell_type": "code",
   "execution_count": null,
   "id": "30a9f077",
   "metadata": {},
   "outputs": [],
   "source": []
  }
 ],
 "metadata": {
  "kernelspec": {
   "display_name": "Python 3",
   "language": "python",
   "name": "python3"
  },
  "language_info": {
   "codemirror_mode": {
    "name": "ipython",
    "version": 3
   },
   "file_extension": ".py",
   "mimetype": "text/x-python",
   "name": "python",
   "nbconvert_exporter": "python",
   "pygments_lexer": "ipython3",
   "version": "3.9.7"
  }
 },
 "nbformat": 4,
 "nbformat_minor": 5
}
