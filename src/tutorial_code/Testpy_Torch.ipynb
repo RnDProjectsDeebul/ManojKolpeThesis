{
 "cells": [
  {
   "cell_type": "code",
   "execution_count": 2,
   "id": "5f25f572",
   "metadata": {},
   "outputs": [],
   "source": [
    "import torch, torchvision"
   ]
  },
  {
   "cell_type": "markdown",
   "id": "11115a8d",
   "metadata": {},
   "source": [
    "## Implements data parallelism at the module level. \n",
    "## module (Module) – module to be parallelized"
   ]
  },
  {
   "cell_type": "code",
   "execution_count": null,
   "id": "26c04a1b",
   "metadata": {},
   "outputs": [],
   "source": [
    "net = torch.nn.DataParallel(model, device_ids=[0, 1, 2])"
   ]
  },
  {
   "cell_type": "code",
   "execution_count": null,
   "id": "07e62941",
   "metadata": {},
   "outputs": [],
   "source": [
    "## A state_dict is simply a Python dictionary object that maps each layer to its parameter tensor.\n",
    "# Load the pretrained weights\n",
    "weights = torch.load(pretrained_encoder)\n",
    "\n",
    "encoder.load_state_dict(weights['state_dict'])"
   ]
  },
  {
   "cell_type": "markdown",
   "id": "fc2cca1f",
   "metadata": {},
   "source": [
    "## encoder.eval() sets model in evaluation (inference) mode:\n",
    "\n",
    "• normalisation layers use running statistics\n",
    "\n",
    "• de-activates Dropout layers\n",
    "\n",
    "## torch.no_grad() impacts the autograd engine and deactivate it. It will reduce memory usage and speed up "
   ]
  },
  {
   "cell_type": "markdown",
   "id": "f7a55d22",
   "metadata": {},
   "source": [
    "# A Gentle Introduction to torch.autograd\n",
    "\n",
    "## Training NN happens in two steps\n",
    "## Step1: Forward propagation\n",
    "## Step2: Backward propagation\n",
    "\n",
    "- A pretrained ResNet18 is added from torchvision.\n",
    "- A random single image with 3 channels is created with HxW of 64 and label is initialized to some random value.\n",
    "- A random label is assigned to the image"
   ]
  },
  {
   "cell_type": "code",
   "execution_count": 3,
   "id": "6ac9c608",
   "metadata": {},
   "outputs": [
    {
     "name": "stderr",
     "output_type": "stream",
     "text": [
      "Downloading: \"https://download.pytorch.org/models/resnet18-5c106cde.pth\" to /home/manojkl/.cache/torch/checkpoints/resnet18-5c106cde.pth\n",
      "100%|██████████| 44.7M/44.7M [00:05<00:00, 8.68MB/s]\n"
     ]
    }
   ],
   "source": [
    "model = torchvision.models.resnet18(pretrained=True)\n",
    "data = torch.rand(1, 3, 64, 64)\n",
    "labels = torch.rand(1, 1000)"
   ]
  },
  {
   "cell_type": "markdown",
   "id": "09b49d89",
   "metadata": {},
   "source": [
    "Pass data through each layer i.e forward pass"
   ]
  },
  {
   "cell_type": "code",
   "execution_count": 4,
   "id": "59c8ceb2",
   "metadata": {},
   "outputs": [],
   "source": [
    "prediction = model(data) # forward pass"
   ]
  },
  {
   "cell_type": "markdown",
   "id": "7df8fe55",
   "metadata": {},
   "source": [
    "- Backpropagate after computing the loss.\n",
    "- Autograd then calculates and stores the gradients for each model parameter in the parameter’s .grad attribute."
   ]
  },
  {
   "cell_type": "code",
   "execution_count": 6,
   "id": "20590ffa",
   "metadata": {},
   "outputs": [],
   "source": [
    "loss = (prediction - labels).sum()\n",
    "loss.backward() # backward pass"
   ]
  },
  {
   "cell_type": "markdown",
   "id": "49dc133c",
   "metadata": {},
   "source": [
    "- Load SGD optimizer with learning rate 0.01 and momentum of 0.9"
   ]
  },
  {
   "cell_type": "code",
   "execution_count": 7,
   "id": "9975de29",
   "metadata": {},
   "outputs": [],
   "source": [
    "optim = torch.optim.SGD(model.parameters(), lr=1e-2, momentum=0.9)"
   ]
  },
  {
   "cell_type": "markdown",
   "id": "b5f27d0a",
   "metadata": {},
   "source": [
    "- .step() to initiate gradient descent."
   ]
  },
  {
   "cell_type": "code",
   "execution_count": 8,
   "id": "07449dc9",
   "metadata": {},
   "outputs": [],
   "source": [
    "optim.step() #gradient descent"
   ]
  },
  {
   "cell_type": "markdown",
   "id": "323e65e5",
   "metadata": {},
   "source": [
    "- We create two tensors a and b with requires_grad=True. This signals to autograd that every operation on them should be tracked."
   ]
  },
  {
   "cell_type": "markdown",
   "id": "da7f6190",
   "metadata": {},
   "source": [
    "- tqdm is for Progress Bars"
   ]
  },
  {
   "cell_type": "code",
   "execution_count": 11,
   "id": "07c5075f",
   "metadata": {},
   "outputs": [],
   "source": [
    "from tqdm import tqdm"
   ]
  },
  {
   "cell_type": "code",
   "execution_count": 12,
   "id": "1254e691",
   "metadata": {},
   "outputs": [
    {
     "name": "stderr",
     "output_type": "stream",
     "text": [
      "100%|██████████| 4/4 [00:00<00:00, 12122.27it/s]"
     ]
    },
    {
     "name": "stdout",
     "output_type": "stream",
     "text": [
      "1\n",
      "2\n",
      "3\n",
      "4\n"
     ]
    },
    {
     "name": "stderr",
     "output_type": "stream",
     "text": [
      "\n"
     ]
    }
   ],
   "source": [
    "for i in tqdm(range(1, 5)):\n",
    "    print(i)"
   ]
  },
  {
   "cell_type": "code",
   "execution_count": null,
   "id": "35b53cc7",
   "metadata": {},
   "outputs": [],
   "source": []
  }
 ],
 "metadata": {
  "kernelspec": {
   "display_name": "Python 3",
   "language": "python",
   "name": "python3"
  },
  "language_info": {
   "codemirror_mode": {
    "name": "ipython",
    "version": 3
   },
   "file_extension": ".py",
   "mimetype": "text/x-python",
   "name": "python",
   "nbconvert_exporter": "python",
   "pygments_lexer": "ipython3",
   "version": "3.7.11"
  }
 },
 "nbformat": 4,
 "nbformat_minor": 5
}
