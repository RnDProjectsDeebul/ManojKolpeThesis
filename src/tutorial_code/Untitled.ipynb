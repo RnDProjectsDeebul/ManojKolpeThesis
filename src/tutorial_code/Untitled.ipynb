{
 "cells": [
  {
   "cell_type": "code",
   "execution_count": 1,
   "id": "cfc1fd19",
   "metadata": {},
   "outputs": [],
   "source": [
    "import torch\n",
    "import torchvision"
   ]
  },
  {
   "cell_type": "code",
   "execution_count": 2,
   "id": "f157c2ba",
   "metadata": {},
   "outputs": [],
   "source": [
    "resnet18 = torchvision.models.resnet18(pretrained=True)\n",
    "resnet18.eval()\n",
    "example_inputs = torch.rand(1, 3, 224, 224)\n",
    "resnet18_traced = torch.jit.trace(resnet18, example_inputs = example_inputs)\n",
    "resnet18_traced.save(\"/home/manojkl/Documents/Master_thesis/Code/Tutorial_code/resnet18_traced.pt\")"
   ]
  },
  {
   "cell_type": "code",
   "execution_count": 4,
   "id": "2e1eea1e",
   "metadata": {},
   "outputs": [],
   "source": [
    "import numpy as np\n",
    "from numpy.linalg import inv"
   ]
  },
  {
   "cell_type": "code",
   "execution_count": 8,
   "id": "0365199b",
   "metadata": {},
   "outputs": [
    {
     "name": "stdout",
     "output_type": "stream",
     "text": [
      "[[1 3 2 2]\n",
      " [3 1 1 4]\n",
      " [1 2 2 5]\n",
      " [1 2 2 5]]\n",
      "[[5 6 6 8]\n",
      " [2 2 2 8]\n",
      " [6 6 2 8]\n",
      " [2 3 6 7]]\n",
      "[[-17.    -9.    12.    16.  ]\n",
      " [ 17.     8.75 -11.75 -16.  ]\n",
      " [ -4.    -2.25   2.75   4.  ]\n",
      " [  1.     0.75  -0.75  -1.  ]]\n",
      "[[ 28.    14.25 -19.25 -26.  ]\n",
      " [-34.   -17.5   24.    32.  ]\n",
      " [ 14.     7.75  -9.75 -13.  ]\n",
      " [ 14.     7.75  -9.75 -13.  ]]\n"
     ]
    }
   ],
   "source": [
    "a = np.array([[1, 3, 2, 2], [3, 1, 1, 4],[1, 2, 2, 5],[1, 2, 2, 5]])\n",
    "b = np.array([[5, 6, 6, 8], [2, 2, 2, 8],[6, 6, 2, 8],[2, 3, 6, 7]])\n",
    "\n",
    "rel_pose = np.dot(a, inv(b))\n",
    "\n",
    "print(a)\n",
    "print(b)\n",
    "print(inv(b))\n",
    "print(rel_pose)"
   ]
  },
  {
   "cell_type": "code",
   "execution_count": 9,
   "id": "8c5e0895",
   "metadata": {},
   "outputs": [
    {
     "data": {
      "text/plain": [
       "9"
      ]
     },
     "execution_count": 9,
     "metadata": {},
     "output_type": "execute_result"
    }
   ],
   "source": [
    "np.matrix.trace(a)"
   ]
  },
  {
   "cell_type": "code",
   "execution_count": 10,
   "id": "d860d9f1",
   "metadata": {},
   "outputs": [
    {
     "name": "stdout",
     "output_type": "stream",
     "text": [
      "[[ 28.    14.25 -19.25]\n",
      " [-34.   -17.5   24.  ]\n",
      " [ 14.     7.75  -9.75]]\n",
      "[-26.  32. -13.]\n"
     ]
    }
   ],
   "source": [
    "R = rel_pose[:3, :3]\n",
    "t = rel_pose[:3, 3]\n",
    "print(R)\n",
    "print(t)"
   ]
  },
  {
   "cell_type": "code",
   "execution_count": 13,
   "id": "14ff83a5",
   "metadata": {},
   "outputs": [
    {
     "data": {
      "text/plain": [
       "43.23193264243474"
      ]
     },
     "execution_count": 13,
     "metadata": {},
     "output_type": "execute_result"
    }
   ],
   "source": [
    "np.linalg.norm(t)"
   ]
  },
  {
   "cell_type": "code",
   "execution_count": null,
   "id": "063c3e7f",
   "metadata": {},
   "outputs": [],
   "source": []
  }
 ],
 "metadata": {
  "kernelspec": {
   "display_name": "Python 3",
   "language": "python",
   "name": "python3"
  },
  "language_info": {
   "codemirror_mode": {
    "name": "ipython",
    "version": 3
   },
   "file_extension": ".py",
   "mimetype": "text/x-python",
   "name": "python",
   "nbconvert_exporter": "python",
   "pygments_lexer": "ipython3",
   "version": "3.7.13"
  }
 },
 "nbformat": 4,
 "nbformat_minor": 5
}
