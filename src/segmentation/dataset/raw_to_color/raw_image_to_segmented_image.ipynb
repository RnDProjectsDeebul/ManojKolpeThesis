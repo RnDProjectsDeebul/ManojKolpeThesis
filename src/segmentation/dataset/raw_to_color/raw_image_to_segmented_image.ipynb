{
 "cells": [
  {
   "cell_type": "code",
   "execution_count": 33,
   "id": "06a38831",
   "metadata": {},
   "outputs": [],
   "source": [
    "# see load_label_png.py also.\n",
    "import numpy as np\n",
    "import PIL.Image\n",
    "import imageio\n",
    "import os\n",
    "import csv"
   ]
  },
  {
   "cell_type": "code",
   "execution_count": 15,
   "id": "43dd59fa",
   "metadata": {},
   "outputs": [
    {
     "name": "stdout",
     "output_type": "stream",
     "text": [
      "int32\n",
      "[ 0  1  3  4  7  9 21]\n",
      "(968, 1296)\n"
     ]
    }
   ],
   "source": [
    "# label_png = '/home/latai/Documents/Master_thesis_v2/data/test3/label/0.png'\n",
    "label_png = '/home/latai/Documents/Master_thesis_v2/data/test3/label/0.png'\n",
    "lbl = np.asarray(PIL.Image.open(label_png))\n",
    "print(lbl.dtype)\n",
    "print(np.unique(lbl))\n",
    "print(lbl.shape)"
   ]
  },
  {
   "cell_type": "code",
   "execution_count": null,
   "id": "f473a893",
   "metadata": {},
   "outputs": [],
   "source": [
    "[ 0  1  3  4  7  9 21]"
   ]
  },
  {
   "cell_type": "code",
   "execution_count": 17,
   "id": "90cb0e83",
   "metadata": {},
   "outputs": [
    {
     "name": "stdout",
     "output_type": "stream",
     "text": [
      "uint8\n",
      "[ 0  1  2  3  7 14 16]\n",
      "(240, 320)\n"
     ]
    }
   ],
   "source": [
    "label_png = '/home/latai/Documents/Master_thesis_v2/data/test3/0.png'\n",
    "lbl = np.asarray(PIL.Image.open(label_png))\n",
    "print(lbl.dtype)\n",
    "print(np.unique(lbl))\n",
    "print(lbl.shape)"
   ]
  },
  {
   "cell_type": "code",
   "execution_count": null,
   "id": "7c820698",
   "metadata": {},
   "outputs": [],
   "source": [
    "# Example script to convert label images from the *_2d-label.zip or *_2d-label-filt.zip data for each scan.\n",
    "# Note: already preprocessed data for a set of frames subsampled from the full datasets is available to download through the ScanNet download.\n",
    "# Input:\n",
    "#   - path to label image to convert\n",
    "#   - label mapping file (scannetv2-labels.combined.tsv)\n",
    "#   - output image file\n",
    "# Outputs the label image with nyu40 labels as an 8-bit image \n",
    "#\n",
    "# example usage: convert_scannet_label_image.py --input_file [path to input label image] --label_map_file [path to scannet-labels.combined.tsv] --output_file [output image file]\n",
    "# (see util.visualize_label_image() for producing a colored visualization)\n",
    "\n",
    "\n",
    "# python imports\n",
    "import math\n",
    "import os, sys, argparse\n",
    "import inspect\n",
    "\n",
    "try:\n",
    "    import numpy as np\n",
    "except:\n",
    "    print \"Failed to import numpy package.\"\n",
    "    sys.exit(-1)\n",
    "try:\n",
    "    import imageio\n",
    "except:\n",
    "    print(\"Please install the module 'imageio' for image processing, e.g.\")\n",
    "    print(\"pip install imageio\")\n",
    "    sys.exit(-1)\n",
    "\n",
    "currentdir = os.path.dirname(os.path.abspath(inspect.getfile(inspect.currentframe())))\n",
    "parentdir = os.path.dirname(currentdir)\n",
    "sys.path.insert(0,parentdir)\n",
    "import util\n",
    "\n",
    "parser = argparse.ArgumentParser()\n",
    "parser.add_argument('--input_file', required=True, help='path to input label image')\n",
    "parser.add_argument('--label_map_file', required=True, help='path to scannetv2-labels.combined.tsv')\n",
    "parser.add_argument('--output_file', required=True, help='output image file')\n",
    "opt = parser.parse_args()\n",
    "\n",
    "\n",
    "def map_label_image(image, label_mapping):\n",
    "    mapped = np.copy(image)\n",
    "    for k,v in label_mapping.iteritems():\n",
    "        mapped[image==k] = v\n",
    "    return mapped.astype(np.uint8)\n",
    "\n",
    "\n",
    "def main():\n",
    "    image = np.array(imageio.imread(opt.input_file))\n",
    "    label_map = util.read_label_mapping(opt.label_map_file, label_from='id', label_to='nyu40id')\n",
    "    mapped_image = map_label_image(image, label_map)\n",
    "    imageio.imwrite(opt.output_file, mapped_image)\n",
    "    # uncomment to save out visualization\n",
    "    # util.visualize_label_image(os.path.splitext(opt.output_file)[0] + '_vis.jpg', mapped_image)\n",
    "\n",
    "\n",
    "if __name__ == '__main__':\n",
    "    main()"
   ]
  },
  {
   "cell_type": "code",
   "execution_count": 52,
   "id": "408b226c",
   "metadata": {},
   "outputs": [],
   "source": [
    "def map_label_image(image, label_mapping):\n",
    "    mapped = np.copy(image)\n",
    "    for k,v in label_mapping.items():\n",
    "        mapped[image==k] = v\n",
    "    return mapped.astype(np.uint8)\n",
    "\n",
    "\n",
    "def main(input_file,label_map_file, output_file ):\n",
    "    image = np.array(imageio.imread(input_file))\n",
    "    label_map = read_label_mapping(label_map_file, label_from='id', label_to='nyu40id')\n",
    "    mapped_image = map_label_image(image, label_map)\n",
    "    imageio.imwrite(output_file, mapped_image)\n",
    "    visualize_label_image(os.path.splitext(output_file)[0] + '_vis.jpg', mapped_image)"
   ]
  },
  {
   "cell_type": "code",
   "execution_count": 53,
   "id": "7716ee22",
   "metadata": {},
   "outputs": [],
   "source": [
    "# if string s represents an int\n",
    "def represents_int(s):\n",
    "    try: \n",
    "        int(s)\n",
    "        return True\n",
    "    except ValueError:\n",
    "        return \n",
    "    \n",
    "def read_label_mapping(filename, label_from='raw_category', label_to='nyu40id'):\n",
    "    assert os.path.isfile(filename)\n",
    "    mapping = dict()\n",
    "    with open(filename) as csvfile:\n",
    "        reader = csv.DictReader(csvfile, delimiter='\\t')\n",
    "#         print(reader)\n",
    "        for row in reader:\n",
    "#             print(row)\n",
    "            mapping[row[label_from]] = int(row[label_to])\n",
    "    # if ints convert \n",
    "#     print(mapping.keys()[0])\n",
    "    if represents_int(list(mapping.keys())[0]):\n",
    "        mapping = {int(k):v for k,v in mapping.items()}\n",
    "    return mapping\n",
    "\n",
    "# color by label\n",
    "def visualize_label_image(filename, image):\n",
    "    height = image.shape[0]\n",
    "    width = image.shape[1]\n",
    "    vis_image = np.zeros([height, width, 3], dtype=np.uint8)\n",
    "    color_palette = create_color_palette()\n",
    "    for idx, color in enumerate(color_palette):\n",
    "        vis_image[image==idx] = color\n",
    "    imageio.imwrite(filename, vis_image)\n",
    "\n",
    "# color palette for nyu40 labels\n",
    "def create_color_palette():\n",
    "    return [\n",
    "       (0, 0, 0),\n",
    "       (174, 199, 232),\n",
    "       (152, 223, 138),\n",
    "       (31, 119, 180), \n",
    "       (255, 187, 120),\n",
    "       (188, 189, 34), \n",
    "       (140, 86, 75),  \n",
    "       (255, 152, 150),\n",
    "       (214, 39, 40),  \n",
    "       (197, 176, 213),\n",
    "       (148, 103, 189),\n",
    "       (196, 156, 148),\n",
    "       (23, 190, 207),\n",
    "       (178, 76, 76),  \n",
    "       (247, 182, 210),\n",
    "       (66, 188, 102), \n",
    "       (219, 219, 141),\n",
    "       (140, 57, 197), \n",
    "       (202, 185, 52), \n",
    "       (51, 176, 203), \n",
    "       (200, 54, 131), \n",
    "       (92, 193, 61),  \n",
    "       (78, 71, 183),  \n",
    "       (172, 114, 82), \n",
    "       (255, 127, 14), \n",
    "       (91, 163, 138), \n",
    "       (153, 98, 156), \n",
    "       (140, 153, 101),\n",
    "       (158, 218, 229),\n",
    "       (100, 125, 154),\n",
    "       (178, 127, 135),\n",
    "       (120, 185, 128),\n",
    "       (146, 111, 194),\n",
    "       (44, 160, 44),  \n",
    "       (112, 128, 144),\n",
    "       (96, 207, 209), \n",
    "       (227, 119, 194),\n",
    "       (213, 92, 176), \n",
    "       (94, 106, 211), \n",
    "       (82, 84, 163),\n",
    "       (100, 85, 144)\n",
    "    ]"
   ]
  },
  {
   "cell_type": "code",
   "execution_count": 54,
   "id": "23343e10",
   "metadata": {},
   "outputs": [
    {
     "name": "stderr",
     "output_type": "stream",
     "text": [
      "/home/latai/anaconda3/envs/latai/lib/python3.7/site-packages/ipykernel_launcher.py:9: DeprecationWarning: Starting with ImageIO v3 the behavior of this function will switch to that of iio.v3.imread. To keep the current behavior (and make this warning dissapear) use `import imageio.v2 as imageio` or call `imageio.v2.imread` directly.\n",
      "  if __name__ == '__main__':\n"
     ]
    }
   ],
   "source": [
    "label_png = '/home/latai/Documents/Master_thesis_v2/data/test3/0.png'\n",
    "label_map_file = '/home/latai/Documents/Master_thesis_v2/data/test3/scannetv2-labels.combined.tsv'\n",
    "output_file = '/home/latai/Documents/Master_thesis_v2/data/test3/out.png'\n",
    "main(label_png, label_map_file, output_file)"
   ]
  },
  {
   "cell_type": "code",
   "execution_count": null,
   "id": "aa3fd067",
   "metadata": {},
   "outputs": [],
   "source": []
  }
 ],
 "metadata": {
  "kernelspec": {
   "display_name": "Python 3",
   "language": "python",
   "name": "python3"
  },
  "language_info": {
   "codemirror_mode": {
    "name": "ipython",
    "version": 3
   },
   "file_extension": ".py",
   "mimetype": "text/x-python",
   "name": "python",
   "nbconvert_exporter": "python",
   "pygments_lexer": "ipython3",
   "version": "3.7.13"
  }
 },
 "nbformat": 4,
 "nbformat_minor": 5
}
