{
 "cells": [
  {
   "cell_type": "code",
   "execution_count": 2,
   "id": "7336f6fa",
   "metadata": {},
   "outputs": [
    {
     "name": "stdout",
     "output_type": "stream",
     "text": [
      "Collecting imageio\n",
      "  Downloading imageio-2.22.2-py3-none-any.whl (3.4 MB)\n",
      "\u001b[2K     \u001b[38;2;114;156;31m━━━━━━━━━━━━━━━━━━━━━━━━━━━━━━━━━━━━━━━━\u001b[0m \u001b[32m3.4/3.4 MB\u001b[0m \u001b[31m21.0 MB/s\u001b[0m eta \u001b[36m0:00:00\u001b[0m MB/s\u001b[0m eta \u001b[36m0:00:01\u001b[0m:01\u001b[0m\n",
      "\u001b[?25hRequirement already satisfied: numpy in /home/manojkl/anaconda3/envs/unet/lib/python3.10/site-packages (from imageio) (1.22.3)\n",
      "Requirement already satisfied: pillow>=8.3.2 in /home/manojkl/anaconda3/envs/unet/lib/python3.10/site-packages (from imageio) (9.2.0)\n",
      "Installing collected packages: imageio\n",
      "Successfully installed imageio-2.22.2\n"
     ]
    }
   ],
   "source": [
    "!pip install imageio"
   ]
  },
  {
   "cell_type": "code",
   "execution_count": 1,
   "id": "c2cc779d",
   "metadata": {},
   "outputs": [],
   "source": [
    "# see load_label_png.py also.\n",
    "import numpy as np\n",
    "import PIL.Image\n",
    "import imageio\n",
    "import os\n",
    "import csv"
   ]
  },
  {
   "cell_type": "code",
   "execution_count": 2,
   "id": "00be66be",
   "metadata": {},
   "outputs": [
    {
     "name": "stdout",
     "output_type": "stream",
     "text": [
      "uint8\n",
      "[ 0  1  2  3  7 14 16]\n",
      "(240, 320)\n"
     ]
    }
   ],
   "source": [
    "# label_png = '/home/latai/Documents/Master_thesis_v2/data/test3/label/0.png'\n",
    "label_png = '/home/manojkl/Documents/MT/ManojKolpeThesis/src/segmentation/dataset/raw_to_color/0.png'\n",
    "lbl = np.asarray(PIL.Image.open(label_png))\n",
    "print(lbl.dtype)\n",
    "print(np.unique(lbl))\n",
    "print(lbl.shape)"
   ]
  },
  {
   "cell_type": "code",
   "execution_count": 4,
   "id": "6af48988",
   "metadata": {},
   "outputs": [
    {
     "ename": "SyntaxError",
     "evalue": "invalid syntax (<ipython-input-4-f5ef8ca39795>, line 1)",
     "output_type": "error",
     "traceback": [
      "\u001b[0;36m  File \u001b[0;32m\"<ipython-input-4-f5ef8ca39795>\"\u001b[0;36m, line \u001b[0;32m1\u001b[0m\n\u001b[0;31m    [ 0  1  3  4  7  9 21]\u001b[0m\n\u001b[0m         ^\u001b[0m\n\u001b[0;31mSyntaxError\u001b[0m\u001b[0;31m:\u001b[0m invalid syntax\n"
     ]
    }
   ],
   "source": [
    "[ 0  1  3  4  7  9 21]"
   ]
  },
  {
   "cell_type": "code",
   "execution_count": 6,
   "id": "75aa075b",
   "metadata": {},
   "outputs": [
    {
     "name": "stdout",
     "output_type": "stream",
     "text": [
      "uint8\n",
      "[ 0  1  2  3  7 14 16]\n",
      "(240, 320)\n"
     ]
    }
   ],
   "source": [
    "label_png = '/home/manojkl/Documents/MT/ManojKolpeThesis/src/segmentation/dataset/raw_to_color/0.png'\n",
    "lbl = np.asarray(PIL.Image.open(label_png))\n",
    "print(lbl.dtype)\n",
    "print(np.unique(lbl))\n",
    "print(lbl.shape)"
   ]
  },
  {
   "cell_type": "code",
   "execution_count": 6,
   "id": "503201ed",
   "metadata": {},
   "outputs": [
    {
     "name": "stderr",
     "output_type": "stream",
     "text": [
      "usage: ipykernel_launcher.py [-h] --input_file INPUT_FILE --label_map_file\n",
      "                             LABEL_MAP_FILE --output_file OUTPUT_FILE\n",
      "ipykernel_launcher.py: error: the following arguments are required: --input_file, --label_map_file, --output_file\n"
     ]
    },
    {
     "ename": "SystemExit",
     "evalue": "2",
     "output_type": "error",
     "traceback": [
      "An exception has occurred, use %tb to see the full traceback.\n",
      "\u001b[0;31mSystemExit\u001b[0m\u001b[0;31m:\u001b[0m 2\n"
     ]
    }
   ],
   "source": [
    "# Example script to convert label images from the *_2d-label.zip or *_2d-label-filt.zip data for each scan.\n",
    "# Note: already preprocessed data for a set of frames subsampled from the full datasets is available to download through the ScanNet download.\n",
    "# Input:\n",
    "#   - path to label image to convert\n",
    "#   - label mapping file (scannetv2-labels.combined.tsv)\n",
    "#   - output image file\n",
    "# Outputs the label image with nyu40 labels as an 8-bit image \n",
    "#\n",
    "# example usage: convert_scannet_label_image.py --input_file [path to input label image] --label_map_file [path to scannet-labels.combined.tsv] --output_file [output image file]\n",
    "# (see util.visualize_label_image() for producing a colored visualization)\n",
    "\n",
    "\n",
    "# python imports\n",
    "import math\n",
    "import os, sys, argparse\n",
    "import inspect\n",
    "\n",
    "try:\n",
    "    import numpy as np\n",
    "except:\n",
    "    print (\"Failed to import numpy package.\")\n",
    "    sys.exit(-1)\n",
    "try:\n",
    "    import imageio\n",
    "except:\n",
    "    print(\"Please install the module 'imageio' for image processing, e.g.\")\n",
    "    print(\"pip install imageio\")\n",
    "    sys.exit(-1)\n",
    "\n",
    "currentdir = os.path.dirname(os.path.abspath(inspect.getfile(inspect.currentframe())))\n",
    "parentdir = os.path.dirname(currentdir)\n",
    "sys.path.insert(0,parentdir)\n",
    "import util\n",
    "\n",
    "parser = argparse.ArgumentParser()\n",
    "parser.add_argument('--input_file', required=True, help='path to input label image')\n",
    "parser.add_argument('--label_map_file', required=True, help='path to scannetv2-labels.combined.tsv')\n",
    "parser.add_argument('--output_file', required=True, help='output image file')\n",
    "opt = parser.parse_args()\n",
    "\n",
    "\n",
    "def map_label_image(image, label_mapping):\n",
    "    mapped = np.copy(image)\n",
    "    for k,v in label_mapping.iteritems():\n",
    "        mapped[image==k] = v\n",
    "    return mapped.astype(np.uint8)\n",
    "\n",
    "\n",
    "def main():\n",
    "    image = np.array(imageio.imread(opt.input_file))\n",
    "    label_map = util.read_label_mapping(opt.label_map_file, label_from='id', label_to='nyu40id')\n",
    "    mapped_image = map_label_image(image, label_map)\n",
    "    imageio.imwrite(opt.output_file, mapped_image)\n",
    "    # uncomment to save out visualization\n",
    "    # util.visualize_label_image(os.path.splitext(opt.output_file)[0] + '_vis.jpg', mapped_image)\n",
    "\n",
    "\n",
    "if __name__ == '__main__':\n",
    "    main()"
   ]
  },
  {
   "cell_type": "code",
   "execution_count": 39,
   "id": "009932d9",
   "metadata": {},
   "outputs": [
    {
     "data": {
      "text/plain": [
       "'/home/manojkl/Documents/MT/ManojKolpeThesis/src/segmentation/dataset/raw_to_color/0_test'"
      ]
     },
     "execution_count": 39,
     "metadata": {},
     "output_type": "execute_result"
    }
   ],
   "source": [
    "a = '/home/manojkl/Documents/MT/ManojKolpeThesis/src/segmentation/dataset/raw_to_color/0_test.png'\n",
    "\n",
    "'/'.join(a.split('/')[:-1])+'/'+a.split('/')[-1].split('.')[0]"
   ]
  },
  {
   "cell_type": "code",
   "execution_count": 43,
   "id": "7114bbe9",
   "metadata": {},
   "outputs": [],
   "source": [
    "def map_label_image(image, label_mapping):\n",
    "    mapped = np.copy(image)\n",
    "    for k,v in label_mapping.items():\n",
    "        mapped[image==k] = v\n",
    "    return mapped.astype(np.uint8)\n",
    "\n",
    "\n",
    "def main(input_file,label_map_file, output_file ):\n",
    "    \n",
    "    image = np.array(imageio.imread(input_file))\n",
    "    # Only two classes\n",
    "#     image[image != 1] = 0\n",
    "    label_map = read_label_mapping(label_map_file, label_from='id', label_to='nyu40id')\n",
    "    mapped_image = map_label_image(image, label_map)\n",
    "    imageio.imwrite(output_file, mapped_image)\n",
    "    print(mapped_image.shape)\n",
    "    a = '/'.join(input_file.split('/')[:-1])+'/'+input_file.split('/')[-1].split('.')[0]\n",
    "    visualize_label_image(a + '_vis_new.jpg', mapped_image)"
   ]
  },
  {
   "cell_type": "code",
   "execution_count": 44,
   "id": "2e14e257",
   "metadata": {},
   "outputs": [],
   "source": [
    "# if string s represents an int\n",
    "def represents_int(s):\n",
    "    try: \n",
    "        int(s)\n",
    "        return True\n",
    "    except ValueError:\n",
    "        return \n",
    "    \n",
    "def read_label_mapping(filename, label_from='raw_category', label_to='nyu40id'):\n",
    "    assert os.path.isfile(filename)\n",
    "    mapping = dict()\n",
    "    with open(filename) as csvfile:\n",
    "        reader = csv.DictReader(csvfile, delimiter='\\t')\n",
    "#         print(reader)\n",
    "        for row in reader:\n",
    "#             print(row)\n",
    "            mapping[row[label_from]] = int(row[label_to])\n",
    "    # if ints convert \n",
    "#     print(mapping.keys()[0])\n",
    "    if represents_int(list(mapping.keys())[0]):\n",
    "        mapping = {int(k):v for k,v in mapping.items()}\n",
    "    return mapping\n",
    "\n",
    "# color by label\n",
    "def visualize_label_image(filename, image):\n",
    "#     print(image.shape)\n",
    "    height = image.shape[0]\n",
    "    width = image.shape[1]\n",
    "    vis_image = np.zeros([height, width, 3], dtype=np.uint8)\n",
    "    color_palette = create_color_palette()\n",
    "    for idx, color in enumerate(color_palette):\n",
    "        vis_image[image==idx] = color\n",
    "    imageio.imwrite(filename, vis_image)\n",
    "\n",
    "# color palette for nyu40 labels\n",
    "def create_color_palette():\n",
    "    return [\n",
    "       (0, 0, 0),\n",
    "       (174, 199, 232),\n",
    "       (152, 223, 138),\n",
    "       (31, 119, 180), \n",
    "       (255, 187, 120),\n",
    "       (188, 189, 34), \n",
    "       (140, 86, 75),  \n",
    "       (255, 152, 150),\n",
    "       (214, 39, 40),  \n",
    "       (197, 176, 213),\n",
    "       (148, 103, 189),\n",
    "       (196, 156, 148),\n",
    "       (23, 190, 207),\n",
    "       (178, 76, 76),  \n",
    "       (247, 182, 210),\n",
    "       (66, 188, 102), \n",
    "       (219, 219, 141),\n",
    "       (140, 57, 197), \n",
    "       (202, 185, 52), \n",
    "       (51, 176, 203), \n",
    "       (200, 54, 131), \n",
    "       (92, 193, 61),  \n",
    "       (78, 71, 183),  \n",
    "       (172, 114, 82), \n",
    "       (255, 127, 14), \n",
    "       (91, 163, 138), \n",
    "       (153, 98, 156), \n",
    "       (140, 153, 101),\n",
    "       (158, 218, 229),\n",
    "       (100, 125, 154),\n",
    "       (178, 127, 135),\n",
    "       (120, 185, 128),\n",
    "       (146, 111, 194),\n",
    "       (44, 160, 44),  \n",
    "       (112, 128, 144),\n",
    "       (96, 207, 209), \n",
    "       (227, 119, 194),\n",
    "       (213, 92, 176), \n",
    "       (94, 106, 211), \n",
    "       (82, 84, 163),\n",
    "       (100, 85, 144)\n",
    "    ]"
   ]
  },
  {
   "cell_type": "code",
   "execution_count": 17,
   "id": "d4ef6cf4",
   "metadata": {},
   "outputs": [
    {
     "name": "stderr",
     "output_type": "stream",
     "text": [
      "/tmp/ipykernel_85517/2605272964.py:10: DeprecationWarning: Starting with ImageIO v3 the behavior of this function will switch to that of iio.v3.imread. To keep the current behavior (and make this warning disappear) use `import imageio.v2 as imageio` or call `imageio.v2.imread` directly.\n",
      "  image = np.array(imageio.imread(input_file))\n"
     ]
    }
   ],
   "source": [
    "label_png = '/home/manojkl/Documents/MT/ManojKolpeThesis/src/segmentation/dataset/raw_to_color/0_test.png'\n",
    "label_map_file = '/home/manojkl/Documents/MT/ManojKolpeThesis/src/segmentation/dataset/raw_to_color/scannetv2-labels.combined.tsv'\n",
    "output_file = '/home/manojkl/Documents/MT/ManojKolpeThesis/src/segmentation/dataset/raw_to_color/out_test.png'\n",
    "main(label_png, label_map_file, output_file)"
   ]
  },
  {
   "cell_type": "code",
   "execution_count": 14,
   "id": "6d4b29e1",
   "metadata": {},
   "outputs": [
    {
     "name": "stderr",
     "output_type": "stream",
     "text": [
      "/tmp/ipykernel_85517/3678483362.py:10: DeprecationWarning: Starting with ImageIO v3 the behavior of this function will switch to that of iio.v3.imread. To keep the current behavior (and make this warning disappear) use `import imageio.v2 as imageio` or call `imageio.v2.imread` directly.\n",
      "  image = np.array(imageio.imread(input_file))\n"
     ]
    }
   ],
   "source": [
    "label_png = '/home/manojkl/Documents/MT/ManojKolpeThesis/src/segmentation/dataset/raw_to_color/0_test.png'\n",
    "label_map_file = '/home/manojkl/Documents/MT/ManojKolpeThesis/src/segmentation/dataset/raw_to_color/scannetv2-labels.combined.tsv'\n",
    "output_file = '/home/manojkl/Documents/MT/ManojKolpeThesis/src/segmentation/dataset/raw_to_color/out_test.png'\n",
    "main(label_png, label_map_file, output_file)"
   ]
  },
  {
   "cell_type": "code",
   "execution_count": 33,
   "id": "7bbccc01",
   "metadata": {},
   "outputs": [
    {
     "name": "stdout",
     "output_type": "stream",
     "text": [
      "(240, 320)\n"
     ]
    },
    {
     "name": "stderr",
     "output_type": "stream",
     "text": [
      "/tmp/ipykernel_85517/2492040379.py:10: DeprecationWarning: Starting with ImageIO v3 the behavior of this function will switch to that of iio.v3.imread. To keep the current behavior (and make this warning disappear) use `import imageio.v2 as imageio` or call `imageio.v2.imread` directly.\n",
      "  image = np.array(imageio.imread(input_file))\n"
     ]
    }
   ],
   "source": [
    "label_png = '/home/manojkl/Documents/MT/ManojKolpeThesis/src/segmentation/dataset/raw_to_color/data/0.png'\n",
    "label_map_file = '/home/manojkl/Documents/MT/ManojKolpeThesis/src/segmentation/dataset/raw_to_color/scannetv2-labels.combined.tsv'\n",
    "output_file = '/home/manojkl/Documents/MT/ManojKolpeThesis/src/segmentation/dataset/raw_to_color/out_test.png'\n",
    "main(label_png, label_map_file, output_file)"
   ]
  },
  {
   "cell_type": "code",
   "execution_count": 45,
   "id": "dc4f84af",
   "metadata": {},
   "outputs": [
    {
     "name": "stdout",
     "output_type": "stream",
     "text": [
      "/home/manojkl/Documents/MT/ManojKolpeThesis/src/segmentation/dataset/raw_to_color/data/20.png\n",
      "(240, 320)\n",
      "/home/manojkl/Documents/MT/ManojKolpeThesis/src/segmentation/dataset/raw_to_color/data/60.png\n",
      "(240, 320)\n",
      "/home/manojkl/Documents/MT/ManojKolpeThesis/src/segmentation/dataset/raw_to_color/data/40.png\n",
      "(240, 320)\n",
      "/home/manojkl/Documents/MT/ManojKolpeThesis/src/segmentation/dataset/raw_to_color/data/0.png\n",
      "(240, 320)\n",
      "/home/manojkl/Documents/MT/ManojKolpeThesis/src/segmentation/dataset/raw_to_color/data/80.png\n",
      "(240, 320)\n"
     ]
    },
    {
     "name": "stderr",
     "output_type": "stream",
     "text": [
      "/tmp/ipykernel_85517/1221539875.py:10: DeprecationWarning: Starting with ImageIO v3 the behavior of this function will switch to that of iio.v3.imread. To keep the current behavior (and make this warning disappear) use `import imageio.v2 as imageio` or call `imageio.v2.imread` directly.\n",
      "  image = np.array(imageio.imread(input_file))\n"
     ]
    }
   ],
   "source": [
    "path = '/home/manojkl/Documents/MT/ManojKolpeThesis/src/segmentation/dataset/raw_to_color/data/'\n",
    "\n",
    "for i in os.listdir(path):\n",
    "    print(path+i)\n",
    "    label_png = path+i\n",
    "    label_map_file = '/home/manojkl/Documents/MT/ManojKolpeThesis/src/segmentation/dataset/raw_to_color/scannetv2-labels.combined.tsv'\n",
    "    output_file = '/home/manojkl/Documents/MT/ManojKolpeThesis/src/segmentation/dataset/raw_to_color/out_test.png'\n",
    "    main(label_png, label_map_file, output_file)\n",
    "    "
   ]
  },
  {
   "cell_type": "code",
   "execution_count": 16,
   "id": "61f71768",
   "metadata": {},
   "outputs": [],
   "source": [
    "import os\n",
    "\n",
    "files = os.listdir(\"/home/manojkl/Documents/MT/Data/label\")\n",
    "\n",
    "for i in files:\n",
    "    label_png = '/home/manojkl/Documents/MT/Data/label/'+i\n",
    "#     print(label_png)\n",
    "    label_map_file = '/home/manojkl/Documents/MT/ManojKolpeThesis/src/segmentation/dataset/raw_to_color/scannetv2-labels.combined.tsv'\n",
    "    output_file = '/home/manojkl/Documents/MT/Data/label/'+i.split(\".\")[0]+\"_color_two_class.jpg\"\n",
    "    main(label_png, label_map_file, output_file)"
   ]
  },
  {
   "cell_type": "code",
   "execution_count": 24,
   "id": "0f9bdd65",
   "metadata": {},
   "outputs": [],
   "source": [
    "import os\n",
    "import matplotlib.pyplot as plt\n",
    "from PIL import Image\n",
    "\n",
    "c =  os.listdir(\"/home/manojkl/Documents/MT/Data/labels_compare/2_classes/\")\n",
    "a =  os.listdir(\"/home/manojkl/Documents/MT/Data/labels_compare/color/\")\n",
    "b =  os.listdir(\"/home/manojkl/Documents/MT/Data/labels_compare/color_mask/\")"
   ]
  },
  {
   "cell_type": "code",
   "execution_count": 28,
   "id": "bb7ad087",
   "metadata": {},
   "outputs": [
    {
     "name": "stdout",
     "output_type": "stream",
     "text": [
      "80.jpg 80_color_two_class_vis.jpg 80_color_two_class_vis.jpg\n",
      "0.jpg 60_color_two_class_vis.jpg 80_color_two_class_vis.jpg\n",
      "140.jpg 100_color_two_class_vis.jpg 80_color_two_class_vis.jpg\n",
      "100.jpg 120_color_two_class_vis.jpg 80_color_two_class_vis.jpg\n",
      "40.jpg 0_color_two_class_vis.jpg 80_color_two_class_vis.jpg\n",
      "20.jpg 20_color_two_class_vis.jpg 80_color_two_class_vis.jpg\n",
      "60.jpg 140_color_two_class_vis.jpg 80_color_two_class_vis.jpg\n",
      "120.jpg 40_color_two_class_vis.jpg 80_color_two_class_vis.jpg\n"
     ]
    }
   ],
   "source": [
    "for i,j,j in zip(a,b,c):\n",
    "    print(i,j,k)"
   ]
  },
  {
   "cell_type": "code",
   "execution_count": 27,
   "id": "479b4271",
   "metadata": {},
   "outputs": [
    {
     "ename": "ValueError",
     "evalue": "not enough values to unpack (expected 4, got 2)",
     "output_type": "error",
     "traceback": [
      "\u001b[0;31m---------------------------------------------------------------------------\u001b[0m",
      "\u001b[0;31mValueError\u001b[0m                                Traceback (most recent call last)",
      "\u001b[0;32m<ipython-input-27-f34d96d7b7a2>\u001b[0m in \u001b[0;36m<module>\u001b[0;34m\u001b[0m\n\u001b[1;32m      2\u001b[0m \u001b[0mfig\u001b[0m\u001b[0;34m,\u001b[0m \u001b[0maxes\u001b[0m \u001b[0;34m=\u001b[0m \u001b[0mplt\u001b[0m\u001b[0;34m.\u001b[0m\u001b[0msubplots\u001b[0m\u001b[0;34m(\u001b[0m\u001b[0mtest_batch_size\u001b[0m\u001b[0;34m,\u001b[0m \u001b[0;36m3\u001b[0m\u001b[0;34m,\u001b[0m \u001b[0mfigsize\u001b[0m\u001b[0;34m=\u001b[0m\u001b[0;34m(\u001b[0m\u001b[0;36m3\u001b[0m\u001b[0;34m*\u001b[0m\u001b[0;36m5\u001b[0m\u001b[0;34m,\u001b[0m \u001b[0mtest_batch_size\u001b[0m\u001b[0;34m*\u001b[0m\u001b[0;36m5\u001b[0m\u001b[0;34m)\u001b[0m\u001b[0;34m)\u001b[0m\u001b[0;34m\u001b[0m\u001b[0;34m\u001b[0m\u001b[0m\n\u001b[1;32m      3\u001b[0m \u001b[0;34m\u001b[0m\u001b[0m\n\u001b[0;32m----> 4\u001b[0;31m \u001b[0;32mfor\u001b[0m \u001b[0ml\u001b[0m\u001b[0;34m,\u001b[0m \u001b[0mi\u001b[0m\u001b[0;34m,\u001b[0m \u001b[0mj\u001b[0m\u001b[0;34m,\u001b[0m \u001b[0mk\u001b[0m \u001b[0;32min\u001b[0m \u001b[0menumerate\u001b[0m\u001b[0;34m(\u001b[0m\u001b[0mzip\u001b[0m\u001b[0;34m(\u001b[0m\u001b[0ma\u001b[0m\u001b[0;34m,\u001b[0m \u001b[0mb\u001b[0m\u001b[0;34m,\u001b[0m \u001b[0mc\u001b[0m\u001b[0;34m)\u001b[0m\u001b[0;34m)\u001b[0m\u001b[0;34m:\u001b[0m\u001b[0;34m\u001b[0m\u001b[0;34m\u001b[0m\u001b[0m\n\u001b[0m\u001b[1;32m      5\u001b[0m \u001b[0;34m\u001b[0m\u001b[0m\n\u001b[1;32m      6\u001b[0m     \u001b[0mlandscape\u001b[0m \u001b[0;34m=\u001b[0m \u001b[0mnp\u001b[0m\u001b[0;34m.\u001b[0m\u001b[0marray\u001b[0m\u001b[0;34m(\u001b[0m\u001b[0mImage\u001b[0m\u001b[0;34m.\u001b[0m\u001b[0mopen\u001b[0m\u001b[0;34m(\u001b[0m\u001b[0;34m\"/home/manojkl/Documents/MT/Data/labels_compare/color/\"\u001b[0m\u001b[0;34m+\u001b[0m\u001b[0mi\u001b[0m\u001b[0;34m)\u001b[0m\u001b[0;34m.\u001b[0m\u001b[0mconvert\u001b[0m\u001b[0;34m(\u001b[0m\u001b[0;34m\"RGB\"\u001b[0m\u001b[0;34m)\u001b[0m\u001b[0;34m)\u001b[0m\u001b[0;34m\u001b[0m\u001b[0;34m\u001b[0m\u001b[0m\n",
      "\u001b[0;31mValueError\u001b[0m: not enough values to unpack (expected 4, got 2)"
     ]
    },
    {
     "data": {
      "image/png": "[encoded data removed]",
      "text/plain": [
       "<Figure size 1080x2880 with 24 Axes>"
      ]
     },
     "metadata": {
      "needs_background": "light"
     },
     "output_type": "display_data"
    }
   ],
   "source": [
    "test_batch_size = 8\n",
    "fig, axes = plt.subplots(test_batch_size, 3, figsize=(3*5, test_batch_size*5))\n",
    "\n",
    "for l, i, j, k in enumerate(zip(a, b, c)):\n",
    "    \n",
    "    landscape = np.array(Image.open(\"/home/manojkl/Documents/MT/Data/labels_compare/color/\"+i).convert(\"RGB\"))\n",
    "    label_class = np.array(Image.open(\"/home/manojkl/Documents/MT/Data/labels_compare/color_mask/\"+j).convert(\"RGB\"))\n",
    "    label_class_predicted = np.array(Image.open(\"/home/manojkl/Documents/MT/Data/labels_compare/2_classes/\"+k).convert(\"RGB\"))\n",
    "    \n",
    "    axes[l, 0].imshow(landscape)\n",
    "    axes[l, 0].set_title(\"Landscape\")\n",
    "    axes[l, 1].imshow(label_class)\n",
    "    axes[l, 1].set_title(\"Label Class\")\n",
    "    axes[l, 2].imshow(label_class_predicted)\n",
    "    axes[l, 2].set_title(\"Label Class - Predicted\")"
   ]
  }
 ],
 "metadata": {
  "kernelspec": {
   "display_name": "Python 3 (ipykernel)",
   "language": "python",
   "name": "python3"
  },
  "language_info": {
   "codemirror_mode": {
    "name": "ipython",
    "version": 3
   },
   "file_extension": ".py",
   "mimetype": "text/x-python",
   "name": "python",
   "nbconvert_exporter": "python",
   "pygments_lexer": "ipython3",
   "version": "3.10.4"
  }
 },
 "nbformat": 4,
 "nbformat_minor": 5
}
